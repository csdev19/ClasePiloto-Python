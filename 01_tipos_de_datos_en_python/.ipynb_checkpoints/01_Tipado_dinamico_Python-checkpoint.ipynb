{
 "cells": [
  {
   "cell_type": "markdown",
   "metadata": {},
   "source": [
    "# PYTHON UN LENGUAJE DE TIPADO DINAMICO\n",
    "\n",
    "Aqui veremos con ejemplos y su respectiva descripcion el como es y como funciona python al ser un lenguaje de tipado dinamico\n"
   ]
  },
  {
   "cell_type": "code",
   "execution_count": null,
   "metadata": {},
   "outputs": [],
   "source": [
    "## COMENTARIOS EN PYTHON\n",
    "\n",
    "# En este bloque no pasaria nada puesto que, para comentar en python\n",
    "# usamos ( como ya pueden apreciar ) este simbolo -> #\n",
    "#\n",
    "# O J O: solo para comentar una linea en especifico debajo de esta\n",
    "# no se estaria comentando nada.\n",
    "#\n",
    "# Y un comentario nos sirve para dar informacion precisa y BREVE\n",
    "# acerca de un pedazo de codigo. De manera que, lo que se escriba\n",
    "# aqui no afectara al codigo."
   ]
  },
  {
   "cell_type": "code",
   "execution_count": 17,
   "metadata": {},
   "outputs": [
    {
     "name": "stdout",
     "output_type": "stream",
     "text": [
      "si la declaracion de variables es correcta este msj aparecera\n"
     ]
    }
   ],
   "source": [
    "### Vamos a crear unas cuantas variables\n",
    "\n",
    "# Esto funcionara ?\n",
    "\n",
    "variable_1 = 12\n",
    "variable_2 = 123.512\n",
    "variable_3 = \"hola\"\n",
    "variable_4 = 'hola'\n",
    "variable_5 = True\n",
    "\n",
    "# Adelante .... compilalo\n",
    "\n",
    "print(\"si la declaracion de variables es correcta este msj aparecera\")"
   ]
  },
  {
   "cell_type": "markdown",
   "metadata": {},
   "source": [
    "## Diferencia entre declaracion tradicional vs tipado dinamico\n",
    "\n",
    "Podemos apreciar (del bloque anterior) como este tipo de declaracion no respeta el tipico patron adoptado en otros lenguajes como c, c++ o java\n",
    "```\n",
    "<tipo-de-dato> nombre-de-la-variable = <valor>\n",
    "```\n",
    "\n",
    "Y porque pasa esto ? o porque lo hacemos ?\n",
    " \n",
    "Porque un lenguaje de tipado dinamico trabaja de la siguiente manera al crear una variable\n",
    "\n",
    "- Primero, identifica el tipo de dato que le estamos enviando a la variable.\n",
    "- Y luego de identificarlo, se acopla a la variable, osea separa el espacio necesario para almacenarla.\n",
    "\n",
    "Por ende en python no existe una declaracion inicial de variables\n",
    "como en otros lenguajes. A que me refiero con esto ?\n",
    "\n",
    "Lo veremos en el siguiente bloque.\n",
    "\n",
    "En C++ declarariamos una variable vacia de la siguiente manera\n",
    "\n",
    "```c++\n",
    "int variable;\n",
    "//Y este pedazo de codigo crea una variable en c++\n",
    "```\n",
    "\n",
    "Mientras que en python esto no se puede, de manera normal (En las ultimas versiones de python han creado una forma de realizar esta inicializacion pero por ahora no lo veremos)\n",
    "por ejemplo crearemos la variable \"hola\": \n"
   ]
  },
  {
   "cell_type": "code",
   "execution_count": 13,
   "metadata": {},
   "outputs": [
    {
     "ename": "NameError",
     "evalue": "name 'hola' is not defined",
     "output_type": "error",
     "traceback": [
      "\u001b[0;31m---------------------------------------------------------------------------\u001b[0m",
      "\u001b[0;31mNameError\u001b[0m                                 Traceback (most recent call last)",
      "\u001b[0;32m<ipython-input-13-83385bceceb5>\u001b[0m in \u001b[0;36m<module>\u001b[0;34m()\u001b[0m\n\u001b[1;32m      1\u001b[0m \u001b[0;34m\u001b[0m\u001b[0m\n\u001b[0;32m----> 2\u001b[0;31m \u001b[0mhola\u001b[0m\u001b[0;34m\u001b[0m\u001b[0m\n\u001b[0m\u001b[1;32m      3\u001b[0m \u001b[0;34m\u001b[0m\u001b[0m\n\u001b[1;32m      4\u001b[0m \u001b[0;31m#\u001b[0m\u001b[0;34m\u001b[0m\u001b[0;34m\u001b[0m\u001b[0m\n\u001b[1;32m      5\u001b[0m \u001b[0;31m# como pueden ver, si compilamos este trozo de codigo nos saltaria\u001b[0m\u001b[0;34m\u001b[0m\u001b[0;34m\u001b[0m\u001b[0m\n",
      "\u001b[0;31mNameError\u001b[0m: name 'hola' is not defined"
     ]
    }
   ],
   "source": [
    "\n",
    "hola\n",
    "\n",
    "# \n",
    "# como pueden ver, si compilamos este trozo de codigo nos saltaria\n",
    "# un error, asi que podrias comentarlo, pero deja el error mejor para que te acostumbres ;)"
   ]
  },
  {
   "cell_type": "markdown",
   "metadata": {},
   "source": [
    "## De que herramientas dispondremos para interactuar con las variables en este curso? \n",
    "\n",
    "Las veremos acontinuacion"
   ]
  },
  {
   "cell_type": "markdown",
   "metadata": {},
   "source": [
    "### LA FUNCION PRINT\n",
    "\n",
    "**Porque funcion?**:\n",
    "\n",
    "Porque desde python3.x la accion de imprimir algo por pantalla paso de ser un **statement** a una funcion y como funcion usa parentesis y recibe argumentos. Si no sabes que es una funcion por ahora confia (a mi no me gusta eso pero por ahora es necesario)\n",
    "\n",
    "\n",
    "```python3\n",
    "print(variable_1)\n",
    "```"
   ]
  },
  {
   "cell_type": "code",
   "execution_count": 14,
   "metadata": {},
   "outputs": [
    {
     "name": "stdout",
     "output_type": "stream",
     "text": [
      "hola soy una cadena de texto cualquiera\n",
      "1251\n"
     ]
    }
   ],
   "source": [
    "# ahora vamos a ver que puede hacer print\n",
    "\n",
    "# podemos imprimir cadenas de text\n",
    "print(\"hola soy una cadena de texto cualquiera\")\n",
    "\n",
    "# podemos imprimir el contenido de una variable\n",
    "variable_a_imprimir = 1251\n",
    "print(variable_a_imprimir)"
   ]
  },
  {
   "cell_type": "markdown",
   "metadata": {},
   "source": [
    "### METODO \"TYPE\"\n",
    "\n",
    "El metodo type nos ayudara de la siguiente manera, nos devolvera un tipo de dato llamado 'type', que efectivamente tambien es un objeto pero nos dira tambien el tipo de dato que representa\n",
    "\n",
    "```python3\n",
    "print(type(variable_1))\n",
    "```\n",
    "\n",
    "OJO: Si tienes nociones de programacion y  te preguntas porque desde este bloque de codigo puedo llamar variables que no han sido declaradas, pues la explicacion es esta, el scope de estos bloques es compartido por todos, asi que cuidado con la doble  declaracion pudee hacerte pasar malos ratos.\n",
    "\n",
    "Si quieres ver como funciona este trozo de codigo, compila el bloque que sigue a continuacion."
   ]
  },
  {
   "cell_type": "code",
   "execution_count": 10,
   "metadata": {},
   "outputs": [
    {
     "name": "stdout",
     "output_type": "stream",
     "text": [
      "<class 'bool'>\n"
     ]
    }
   ],
   "source": [
    "# aqui veremos un ejemplo\n",
    "variable_desconocida = True # o cualquier valor que te imagines\n",
    "\n",
    "print(type(variable_desconocida))"
   ]
  },
  {
   "cell_type": "markdown",
   "metadata": {},
   "source": [
    "## Ahora que ya sabemos como imprimir una variable y como saber su tipo vamos a empezar a jugar con estas."
   ]
  },
  {
   "cell_type": "code",
   "execution_count": 18,
   "metadata": {},
   "outputs": [
    {
     "name": "stdout",
     "output_type": "stream",
     "text": [
      "el valor de la variable 1 es:  12\n",
      "el tipo de la variable 1 es:  <class 'int'> \n",
      "\n",
      "el valor de la variable 2 es:  123.512\n",
      "el tipo de la variable 2 es:  <class 'float'> \n",
      "\n",
      "el valor de la variable 3 es:  hola\n",
      "el tipo de la variable 3 es:  <class 'str'> \n",
      "\n",
      "el valor de la variable 4 es:  hola\n",
      "el tipo de la variable 4 es:  <class 'str'> \n",
      "\n",
      "el valor de la variable 5 es:  True\n",
      "el tipo de la variable 5 es:  <class 'bool'> \n",
      "\n"
     ]
    }
   ],
   "source": [
    "# primero imprimiremos las variables y sus tipos\n",
    "print(\"el valor de la variable 1 es: \", variable_1)\n",
    "print(\"el tipo de la variable 1 es: \", type(variable_1), \"\\n\")\n",
    "\n",
    "print(\"el valor de la variable 2 es: \", variable_2)\n",
    "print(\"el tipo de la variable 2 es: \", type(variable_2),\"\\n\")\n",
    "\n",
    "print(\"el valor de la variable 3 es: \", variable_3)\n",
    "print(\"el tipo de la variable 3 es: \", type(variable_3),\"\\n\")\n",
    "\n",
    "print(\"el valor de la variable 4 es: \", variable_4)\n",
    "print(\"el tipo de la variable 4 es: \", type(variable_4),\"\\n\")\n",
    "\n",
    "print(\"el valor de la variable 5 es: \", variable_5)\n",
    "print(\"el tipo de la variable 5 es: \", type(variable_5),\"\\n\")\n",
    "\n",
    "\n",
    "# donde fueron declaradas estas variables ? pues en uno de los bloques anteriores\n"
   ]
  },
  {
   "cell_type": "markdown",
   "metadata": {},
   "source": [
    "### Ahora que ya tenemos una idea de como funciona la asignacion dinamica. Vamos a ver otro aspecto importante de esto\n"
   ]
  },
  {
   "cell_type": "code",
   "execution_count": 19,
   "metadata": {},
   "outputs": [
    {
     "name": "stdout",
     "output_type": "stream",
     "text": [
      "<class 'int'>\n",
      "el valor ahora es:  hola ahora soy un string\n",
      "el tipo de la variable 1 es ahora:  <class 'str'>\n"
     ]
    }
   ],
   "source": [
    "\n",
    "variable_dinamica = 123\n",
    "\n",
    "print(type(variable_dinamica))\n",
    "\n",
    "variable_1 =  \"hola ahora soy un string\"\n",
    "# Espera... khe ?? si esa variable es un entero, vas a romper mi \n",
    "# tostadora xdxd. Pues no, esto funciona y es puramente por ser\n",
    "# de tipado dinamico\n",
    "\n",
    "# entonces cual es el tipo de la variable?\n",
    "print(\"el valor ahora es: \", variable_1)\n",
    "print(\"el tipo de la variable 1 es ahora: \", type(variable_1))\n"
   ]
  },
  {
   "cell_type": "markdown",
   "metadata": {},
   "source": [
    "**Que paso aqui ? pues el tipado dinamico se centra en lo siguiente:**\n",
    "- El  tipo de dato de la variable sera autoasignado por la computadora al momento de la creacion de esta.\n",
    "- Y ademas una variable al ser creada, su tipo de dato puede cambiar en cualquier momento de la ejecucion del programa.\n",
    "\n",
    "\n",
    "#### ASI QUE HAY QUE TENER CUIDADO CON ESO\n"
   ]
  },
  {
   "cell_type": "markdown",
   "metadata": {},
   "source": [
    "#### YA IRAN ENTENDIENDO EL CHISTE DE LA PRIMERA CALCULADORA 2 + 2 = 22  \n"
   ]
  },
  {
   "cell_type": "code",
   "execution_count": 21,
   "metadata": {},
   "outputs": [
    {
     "name": "stdout",
     "output_type": "stream",
     "text": [
      "22\n"
     ]
    }
   ],
   "source": [
    "var_1 = \"2\"\n",
    "var_2 = \"2\"\n",
    "print(var_1 + var_2)\n"
   ]
  },
  {
   "cell_type": "markdown",
   "metadata": {},
   "source": [
    "Esta seria la explicacion, debes estar seguro de que tipo de  dato estas ingresando, los strings no se SUMAN pero si se pueden CONCATENAR y esto genera muchos errores como los que acaban de ver.\n"
   ]
  },
  {
   "cell_type": "code",
   "execution_count": 37,
   "metadata": {},
   "outputs": [
    {
     "name": "stdout",
     "output_type": "stream",
     "text": [
      "el resultado de esta suma es:  246.512\n",
      "el tipo de dato es:  <class 'float'>\n"
     ]
    },
    {
     "ename": "TypeError",
     "evalue": "must be str, not float",
     "output_type": "error",
     "traceback": [
      "\u001b[0;31m---------------------------------------------------------------------------\u001b[0m",
      "\u001b[0;31mTypeError\u001b[0m                                 Traceback (most recent call last)",
      "\u001b[0;32m<ipython-input-37-dce90ff9377b>\u001b[0m in \u001b[0;36m<module>\u001b[0;34m()\u001b[0m\n\u001b[1;32m     16\u001b[0m \u001b[0mvariable_1\u001b[0m \u001b[0;34m=\u001b[0m \u001b[0;34m'123'\u001b[0m\u001b[0;34m\u001b[0m\u001b[0m\n\u001b[1;32m     17\u001b[0m \u001b[0mvariable_2\u001b[0m \u001b[0;34m=\u001b[0m \u001b[0;36m123.5\u001b[0m\u001b[0;34m\u001b[0m\u001b[0m\n\u001b[0;32m---> 18\u001b[0;31m \u001b[0msuma\u001b[0m \u001b[0;34m=\u001b[0m \u001b[0mvariable_1\u001b[0m \u001b[0;34m+\u001b[0m \u001b[0mvariable_2\u001b[0m\u001b[0;34m\u001b[0m\u001b[0m\n\u001b[0m\u001b[1;32m     19\u001b[0m \u001b[0mprint\u001b[0m\u001b[0;34m(\u001b[0m\u001b[0;34m\"el resultado de esta suma es: \"\u001b[0m\u001b[0;34m,\u001b[0m\u001b[0msuma\u001b[0m\u001b[0;34m)\u001b[0m\u001b[0;34m\u001b[0m\u001b[0m\n\u001b[1;32m     20\u001b[0m \u001b[0mprint\u001b[0m\u001b[0;34m(\u001b[0m\u001b[0;34m\"el tipo de dato es: \"\u001b[0m\u001b[0;34m,\u001b[0m \u001b[0mtype\u001b[0m\u001b[0;34m(\u001b[0m\u001b[0msuma\u001b[0m\u001b[0;34m)\u001b[0m\u001b[0;34m)\u001b[0m\u001b[0;34m\u001b[0m\u001b[0m\n",
      "\u001b[0;31mTypeError\u001b[0m: must be str, not float"
     ]
    }
   ],
   "source": [
    "# ahora un par de ejemplos rapidos \n",
    "\n",
    "# que pasa si sumamos un entero con un flotante ? que pasaria ?\n",
    "\n",
    "# volveremos a declarar variable_1 como un entero\n",
    "variable_1 = 123\n",
    "\n",
    "suma = variable_1 + variable_2\n",
    "\n",
    "print(\"el resultado de esta suma es: \",suma)\n",
    "print(\"el tipo de dato es: \", type(suma))\n",
    "\n",
    "\n"
   ]
  },
  {
   "cell_type": "code",
   "execution_count": 6,
   "metadata": {},
   "outputs": [
    {
     "ename": "TypeError",
     "evalue": "Can't convert 'float' object to str implicitly",
     "output_type": "error",
     "traceback": [
      "\u001b[0;31m---------------------------------------------------------------------------\u001b[0m",
      "\u001b[0;31mTypeError\u001b[0m                                 Traceback (most recent call last)",
      "\u001b[0;32m<ipython-input-6-6422790ce30c>\u001b[0m in \u001b[0;36m<module>\u001b[0;34m()\u001b[0m\n\u001b[1;32m      3\u001b[0m \u001b[0mvariable_1\u001b[0m \u001b[0;34m=\u001b[0m \u001b[0;34m'123'\u001b[0m\u001b[0;34m\u001b[0m\u001b[0m\n\u001b[1;32m      4\u001b[0m \u001b[0mvariable_2\u001b[0m \u001b[0;34m=\u001b[0m \u001b[0;36m123.5\u001b[0m\u001b[0;34m\u001b[0m\u001b[0m\n\u001b[0;32m----> 5\u001b[0;31m \u001b[0msuma\u001b[0m \u001b[0;34m=\u001b[0m \u001b[0mvariable_1\u001b[0m \u001b[0;34m+\u001b[0m \u001b[0mvariable_2\u001b[0m\u001b[0;34m\u001b[0m\u001b[0m\n\u001b[0m\u001b[1;32m      6\u001b[0m \u001b[0mprint\u001b[0m\u001b[0;34m(\u001b[0m\u001b[0;34m\"el resultado de esta suma es: \"\u001b[0m\u001b[0;34m,\u001b[0m\u001b[0msuma\u001b[0m\u001b[0;34m)\u001b[0m\u001b[0;34m\u001b[0m\u001b[0m\n\u001b[1;32m      7\u001b[0m \u001b[0mprint\u001b[0m\u001b[0;34m(\u001b[0m\u001b[0;34m\"el tipo de dato es: \"\u001b[0m\u001b[0;34m,\u001b[0m \u001b[0mtype\u001b[0m\u001b[0;34m(\u001b[0m\u001b[0msuma\u001b[0m\u001b[0;34m)\u001b[0m\u001b[0;34m)\u001b[0m\u001b[0;34m\u001b[0m\u001b[0m\n",
      "\u001b[0;31mTypeError\u001b[0m: Can't convert 'float' object to str implicitly"
     ]
    }
   ],
   "source": [
    "## pero que pasaria si fuera de esta manera ?\n",
    "\n",
    "variable_1 = '123'\n",
    "variable_2 = 123.5\n",
    "suma = variable_1 + variable_2\n",
    "print(\"el resultado de esta suma es: \",suma)\n",
    "print(\"el tipo de dato es: \", type(suma))\n",
    "\n",
    "# como podemos ver nos saltaria un error"
   ]
  },
  {
   "cell_type": "markdown",
   "metadata": {},
   "source": [
    "### Como lo podriamos solucionar ? con un CASTEO\n"
   ]
  },
  {
   "cell_type": "code",
   "execution_count": 39,
   "metadata": {},
   "outputs": [
    {
     "name": "stdout",
     "output_type": "stream",
     "text": [
      "el resultado de esta suma es:  246.5\n",
      "el tipo de dato es:  <class 'float'>\n"
     ]
    }
   ],
   "source": [
    "\n",
    "variable_1 = '123'\n",
    "variable_2 = 123.5\n",
    "suma = int(variable_1) + variable_2\n",
    "print(\"el resultado de esta suma es: \",suma)\n",
    "print(\"el tipo de dato es: \", type(suma))\n",
    "\n",
    "# Y que es un casteo ? vendria a ser el asignarle un tipo de dato\n",
    "# de manera manual a una variable (por asi decirlo )"
   ]
  }
 ],
 "metadata": {
  "kernelspec": {
   "display_name": "Python 3",
   "language": "python",
   "name": "python3"
  },
  "language_info": {
   "codemirror_mode": {
    "name": "ipython",
    "version": 3
   },
   "file_extension": ".py",
   "mimetype": "text/x-python",
   "name": "python",
   "nbconvert_exporter": "python",
   "pygments_lexer": "ipython3",
   "version": "3.5.2"
  }
 },
 "nbformat": 4,
 "nbformat_minor": 2
}
