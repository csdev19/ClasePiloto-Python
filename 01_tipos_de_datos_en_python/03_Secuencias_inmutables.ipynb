{
 "cells": [
  {
   "cell_type": "markdown",
   "metadata": {},
   "source": [
    "# SECUENCIAS INMUTABLES\n",
    "---------------------------"
   ]
  },
  {
   "cell_type": "markdown",
   "metadata": {},
   "source": [
    "Vamos a empezar con las secuencias inmutables. Una secuencia inmutable es aquel elemento el cual no puede ser cambiado despues del momento de su creacion. Y dentro de las cuales estan: **strings**, **tuples** y **bytes**"
   ]
  },
  {
   "cell_type": "markdown",
   "metadata": {},
   "source": [
    "---------------------------\n",
    "# STRING Y BYTES\n",
    "\n",
    "---------------------------"
   ]
  },
  {
   "cell_type": "markdown",
   "metadata": {},
   "source": [
    "## Hay 4 maneras de hacer un string\n",
    "----------------------------------------------\n",
    "\n"
   ]
  },
  {
   "cell_type": "code",
   "execution_count": 3,
   "metadata": {},
   "outputs": [
    {
     "name": "stdout",
     "output_type": "stream",
     "text": [
      "Este es un string con una sola comilla\n",
      "Este es un string con dos comillas\n",
      "Este string esta hecho con tres comillas solas,\n",
      "la particularidad es que respeta los espacios y puede ser\n",
      "escrita en multiples lineas\n",
      "\n",
      "Este es otro string hecho con\n",
      "tres\n",
      "comillas dobles\n",
      "y como el otro respeta espacios\n",
      "\n"
     ]
    }
   ],
   "source": [
    "str1 = 'Este es un string con una sola comilla'\n",
    "str2 = \"Este es un string con dos comillas\"\n",
    "str3 = '''Este string esta hecho con tres comillas solas,\n",
    "la particularidad es que respeta los espacios y puede ser\n",
    "escrita en multiples lineas\n",
    "'''\n",
    "str4 = \"\"\"Este es otro string hecho con\n",
    "tres\n",
    "comillas dobles\n",
    "y como el otro respeta espacios\n",
    "\"\"\"\n",
    "\n",
    "print(str1)\n",
    "print(str2)\n",
    "print(str3)\n",
    "print(str4)"
   ]
  },
  {
   "cell_type": "markdown",
   "metadata": {},
   "source": [
    "## Strings como cualquier otra secuencia tienen una longitud (length)"
   ]
  },
  {
   "cell_type": "code",
   "execution_count": 5,
   "metadata": {},
   "outputs": [
    {
     "name": "stdout",
     "output_type": "stream",
     "text": [
      "hola soy un string cualquiera hola\n",
      "la longitud del str_len es: 34\n"
     ]
    }
   ],
   "source": [
    "str_len = \"hola soy un string cualquiera hola\"\n",
    "\n",
    "print(str_len)\n",
    "\n",
    "print(\"la longitud del str_len es: {}\".format(len(str_len)))"
   ]
  },
  {
   "cell_type": "code",
   "execution_count": null,
   "metadata": {},
   "outputs": [],
   "source": []
  },
  {
   "cell_type": "markdown",
   "metadata": {},
   "source": [
    "## Bytes como funcionan: Encoding and Decoding Strings"
   ]
  },
  {
   "cell_type": "code",
   "execution_count": 52,
   "metadata": {},
   "outputs": [
    {
     "name": "stdout",
     "output_type": "stream",
     "text": [
      "esta es un string en UNICODE: This is üŋíc0de\n",
      "<class 'str'>\n",
      "y esta es un string codificado: b'This is \\xc3\\xbc\\xc5\\x8b\\xc3\\xadc0de'\n",
      "<class 'bytes'>\n",
      "y esta es un byte decodificado: This is üŋíc0de\n",
      "<class 'str'>\n",
      "este es un objeto byte: b'Este es un objeto byte'\n",
      "<class 'bytes'>\n"
     ]
    }
   ],
   "source": [
    "# crearemos un string\n",
    "s = \"This is üŋíc0de\"\n",
    "print(\"esta es un string en UNICODE: {}\".format(s))\n",
    "print(type(s))\n",
    "\n",
    "# ahora lo CODIFICAREMOS\n",
    "encoded_s = s.encode('utf-8')\n",
    "print(\"y esta es un string codificado: {}\".format(encoded_s))\n",
    "# podemos ver que su tipo ahora seria byte\n",
    "print(type(encoded_s))\n",
    "\n",
    "# ahora lo DECODIFICAREMOS\n",
    "decoded_s = encoded_s.decode('utf-8')\n",
    "print(\"y esta es un byte decodificado: {}\".format(decoded_s))\n",
    "# y su tipo ahora volveria a ser string\n",
    "print(type(decoded_s))\n",
    "\n",
    "# ahora crearemos un objeto byte\n",
    "byte_obj = b\"Este es un objeto byte\"\n",
    "print(\"este es un objeto byte: {}\".format(byte_obj))\n",
    "print(type(byte_obj))"
   ]
  },
  {
   "cell_type": "markdown",
   "metadata": {},
   "source": [
    "## Indexing and Slicing Strings\n",
    "------------------"
   ]
  },
  {
   "cell_type": "markdown",
   "metadata": {},
   "source": [
    "### Indexing "
   ]
  },
  {
   "cell_type": "code",
   "execution_count": 9,
   "metadata": {},
   "outputs": [
    {
     "name": "stdout",
     "output_type": "stream",
     "text": [
      "el indice 14 es: s\n"
     ]
    }
   ],
   "source": [
    "# Creamos un string\n",
    "str_idx = \"hola, como estas, aqui vamos a aprender a sobre indexing.\"\n",
    "\n",
    "## podemos manipular strings como si fueran listas o arrays mediante su indice\n",
    "\n",
    "# para hacerlo mas interesante haremos un indice dinamico, si quieren pueden cambiarlo\n",
    "idx = 14\n",
    "print(\"el indice {} es: {}\".format(idx, str_idx[idx]))\n"
   ]
  },
  {
   "cell_type": "markdown",
   "metadata": {},
   "source": [
    "### Slicing"
   ]
  },
  {
   "cell_type": "markdown",
   "metadata": {},
   "source": [
    "La estructura del slicing es la siguiente:\n",
    "    \n",
    "```python\n",
    "<variable>[inicio:final:saltos]\n",
    "```"
   ]
  },
  {
   "cell_type": "code",
   "execution_count": 44,
   "metadata": {},
   "outputs": [
    {
     "name": "stdout",
     "output_type": "stream",
     "text": [
      "Aqui veremos un poco acerca del slicing. Y para el salto ANITA LAVA LA TINA\n",
      "os un poco acerca del slicing. Y para el salto ANITA LAVA LA TINA\n",
      "Aqui veremos un poco acer\n",
      "Au eeo npc cradlsiig  aae at NT AAL IA\n",
      "ANIT AL AVAL ATINA otlas le arap Y .gnicils led acreca ocop nu somerev iuqA\n",
      "TA LAVA LA TINA\n",
      "ivrmsu ooaec e\n"
     ]
    }
   ],
   "source": [
    "str_slc = \"Aqui veremos un poco acerca del slicing. Y para el salto ANITA LAVA LA TINA\"\n",
    "\n",
    "# En caso de no especificar un inicio o un fin este mostrara todo\n",
    "print(str_slc[:])\n",
    "\n",
    "\n",
    "# Si damos un inicio y no un fin mostrara lo siguiente\n",
    "inicio = 10\n",
    "print(str_slc[inicio:])\n",
    "\n",
    "# Si damos un final mostrara lo siguiente\n",
    "final = 25\n",
    "print(str_slc[:final])\n",
    "\n",
    "# Ahora algo interesante, veremos el salto (este seria el tercer parametro)\n",
    "salto = 2\n",
    "print(str_slc[::salto])\n",
    "\n",
    "# Ahora un ejemplo practico, si quieremos invertir la palabra usariamos...\n",
    "salto = -1\n",
    "print(str_slc[::salto])\n",
    "\n",
    "# podemos empezar desde un indice negativo por ejemplo, miren como funciona\n",
    "inicio_negativo = -15\n",
    "print(str_slc[inicio_negativo::])\n",
    "\n",
    "\n",
    "# Ahora usaremos todos los parametros\n",
    "inicio = 3\n",
    "fin = 30\n",
    "salto = 2\n",
    "print(str_slc[inicio:fin:salto])"
   ]
  },
  {
   "cell_type": "markdown",
   "metadata": {},
   "source": [
    "# TUPLES\n",
    "-----------------------------"
   ]
  },
  {
   "cell_type": "code",
   "execution_count": 85,
   "metadata": {},
   "outputs": [
    {
     "name": "stdout",
     "output_type": "stream",
     "text": [
      "tipo de dato de tupla vacia: \t\t\t\t\t <class 'tuple'>\n",
      "tipo de dato de la tupla de un elemento sin coma: \t\t <class 'int'>\n",
      "tipo de dato de la tupla de un elemento con coma: \t\t <class 'tuple'>\n",
      "tipo de dato de la tupla creada con la palabra reservada: \t <class 'tuple'>\n",
      "tipo de dato de la tupla creada con parentesis y coma: \t\t <class 'tuple'>\n",
      "tipo de dato de la tupla creada por asignacion multiple: \t <class 'tuple'>\n"
     ]
    }
   ],
   "source": [
    "# crearemos una tupla vacia\n",
    "empty_tuple = ()\n",
    "\n",
    "# veremos su tipo\n",
    "print(\"tipo de dato de tupla vacia: \\t\\t\\t\\t\\t\",type(empty_tuple))\n",
    "\n",
    "# ahora crearemos una tupla con un elemento\n",
    "one_el_tuple_without_coma = (12) # la coma se necesita, sino solo se contaria el elemento\n",
    "print(\"tipo de dato de la tupla de un elemento sin coma: \\t\\t\",type(one_el_tuple))\n",
    "one_el_tuple_with_coma = (12,)\n",
    "print(\"tipo de dato de la tupla de un elemento con coma: \\t\\t\",type(one_el_tuple_with_coma)) # pueden ver la diferencia de tipos\n",
    "\n",
    "# podemos crear una tupla de dos maneras\n",
    "\n",
    "# con la palabra reservada \"tuple\"\n",
    "tuple_reserved_word = tuple(range(12))\n",
    "print(\"tipo de dato de la tupla creada con la palabra reservada: \\t\",type(tuple_reserved_word))\n",
    "\n",
    "# con los parentesis y coma\n",
    "tuple_parenthesis_coma = (1,2,5,15)\n",
    "print(\"tipo de dato de la tupla creada con parentesis y coma: \\t\\t\",type(tuple_parenthesis_coma))\n",
    "\n",
    "# y una tupla para asignacion multiple\n",
    "elements= 1, 2, 3\n",
    "print(\"tipo de dato de la tupla creada por asignacion multiple: \\t\",type(elements))"
   ]
  },
  {
   "cell_type": "markdown",
   "metadata": {},
   "source": [
    "## Ahora veremos una forma interesante de como funcionan las tuplas en python"
   ]
  },
  {
   "cell_type": "markdown",
   "metadata": {},
   "source": [
    "Intercambiaremos valores de dos variables, mediante dos maneras:\n",
    "\n",
    "1. Usando una variable auxiliar (manera tradicional)\n",
    "2. Usando el one-line-swap "
   ]
  },
  {
   "cell_type": "markdown",
   "metadata": {},
   "source": [
    "#### 1. Usando variable auxiliar"
   ]
  },
  {
   "cell_type": "code",
   "execution_count": 88,
   "metadata": {},
   "outputs": [
    {
     "name": "stdout",
     "output_type": "stream",
     "text": [
      "var1 = 12 y var2 = 25\n",
      "var1 = 25 y var2 = 12\n"
     ]
    }
   ],
   "source": [
    "# Crearemos dos variables\n",
    "var1, var2 = 12, 25\n",
    "\n",
    "print(\"var1 = {} y var2 = {}\".format(var1, var2))\n",
    "\n",
    "# Ahora usaremos una variable auxiliar para cambiarlos (como siempre)\n",
    "var_aux = var1\n",
    "var1 = var2\n",
    "var2 = var_aux\n",
    "\n",
    "# ahora los imprimiremos\n",
    "print(\"var1 = {} y var2 = {}\".format(var1, var2))\n"
   ]
  },
  {
   "cell_type": "markdown",
   "metadata": {},
   "source": [
    "#### 2. Usando el one-line-swap"
   ]
  },
  {
   "cell_type": "code",
   "execution_count": 90,
   "metadata": {},
   "outputs": [
    {
     "name": "stdout",
     "output_type": "stream",
     "text": [
      "var3 = 25 y var4 = 39\n",
      "var3 = 39 y var4 = 25\n"
     ]
    }
   ],
   "source": [
    "# Crearemos otras dos variables\n",
    "var3, var4 = 25, 39\n",
    "\n",
    "print(\"var3 = {} y var4 = {}\".format(var3, var4))\n",
    "\n",
    "# ahora veremos como se realiza\n",
    "var3, var4 = var4, var3\n",
    "\n",
    "print(\"var3 = {} y var4 = {}\".format(var3, var4))"
   ]
  },
  {
   "cell_type": "markdown",
   "metadata": {},
   "source": [
    "Esta es la forma **Pythonica** de hacer el intercambio de variables. Dado que al usar el operador de asignacion mandamos una tupla, harian lo siguiente:\n",
    "\n",
    "```python\n",
    "var_1 = 14\n",
    "var_2 = 52\n",
    "# cuando mandamos dos variables como asignacion multiple (de manera que ya hemos visto) haria lo siguiente\n",
    "variable_contenedora = var_1, var_2\n",
    "\n",
    "# ahora desglozamos los valores de esta variable en otros dos\n",
    "var_3, var_4 = variable_contenedora\n",
    "\n",
    "\n",
    "# y podremos ver que funciono\n",
    "print(var_3, var_4)\n",
    "```"
   ]
  },
  {
   "cell_type": "code",
   "execution_count": 102,
   "metadata": {},
   "outputs": [
    {
     "name": "stdout",
     "output_type": "stream",
     "text": [
      "(14, 52)\n",
      "14 52\n"
     ]
    }
   ],
   "source": [
    "var_1 = 14\n",
    "var_2 = 52\n",
    "# cuando mandamos dos variables como asignacion multiple (de manera que ya hemos visto) haria lo siguiente\n",
    "variable_contenedora = var_1, var_2\n",
    "\n",
    "print(variable_contenedora)\n",
    "\n",
    "\n",
    "# ahora desglozamos los valores de esta variable en otros dos\n",
    "var_3, var_4 = variable_contenedora\n",
    "\n",
    "# y podremos ver que funciono\n",
    "print(\"{} {}\".format(var_3, var_4))\n",
    "\n",
    "\n",
    "# aunque en este caso usamos mas variables de las necesarias, este solo lo usamos como ejemplo\n",
    "# pues lo optimo seria:\n",
    "# var_1, var_2 = var_2, var1\n"
   ]
  }
 ],
 "metadata": {
  "kernelspec": {
   "display_name": "Python 3",
   "language": "python",
   "name": "python3"
  },
  "language_info": {
   "codemirror_mode": {
    "name": "ipython",
    "version": 3
   },
   "file_extension": ".py",
   "mimetype": "text/x-python",
   "name": "python",
   "nbconvert_exporter": "python",
   "pygments_lexer": "ipython3",
   "version": "3.5.2"
  }
 },
 "nbformat": 4,
 "nbformat_minor": 2
}
