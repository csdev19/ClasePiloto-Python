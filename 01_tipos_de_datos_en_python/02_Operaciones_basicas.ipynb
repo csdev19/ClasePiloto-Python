{
 "cells": [
  {
   "cell_type": "markdown",
   "metadata": {},
   "source": [
    "# OPERACIONES BASICAS CON NUMEROS EN PYTHON"
   ]
  },
  {
   "cell_type": "markdown",
   "metadata": {},
   "source": [
    "## Ahora realizaremos algunas basicas que se dan en todos los demas lenguajes de programacion\n"
   ]
  },
  {
   "cell_type": "code",
   "execution_count": 6,
   "metadata": {},
   "outputs": [
    {
     "name": "stdout",
     "output_type": "stream",
     "text": [
      "148\n",
      "98\n",
      "3075\n",
      "4.92\n",
      "4\n",
      "23\n"
     ]
    }
   ],
   "source": [
    "# declararemos aqui las variables para que no haya confusion\n",
    "variable_1 = 123\n",
    "variable_2 = 25\n",
    "\n",
    "# ahora las operaciones\n",
    "\n",
    "suma = variable_1 + variable_2\n",
    "\n",
    "resta = variable_1 - variable_2\n",
    "\n",
    "multiplicacion = variable_1 * variable_2\n",
    "\n",
    "division_real = variable_1 / variable_2\n",
    "\n",
    "division_entera = variable_1 // variable_2\n",
    "\n",
    "modulo = variable_1 % variable_2\n",
    "\n",
    "print(suma)\n",
    "print(resta)\n",
    "print(multiplicacion)\n",
    "print(division_real)\n",
    "print(division_entera)\n",
    "print(modulo)"
   ]
  },
  {
   "cell_type": "markdown",
   "metadata": {},
   "source": [
    "## Ahora algunas un poco mas especiales o que por lo menos los sorprenderan"
   ]
  },
  {
   "cell_type": "code",
   "execution_count": 24,
   "metadata": {},
   "outputs": [
    {
     "name": "stdout",
     "output_type": "stream",
     "text": [
      "625\n",
      "5.0\n"
     ]
    }
   ],
   "source": [
    "# declaracion\n",
    "variable_ejemplo = 25 \n",
    "\n",
    "\n",
    "potenciacion = variable_ejemplo ** 2\n",
    "\n",
    "\n",
    "radicacion = variable_ejemplo ** 0.5\n",
    "\n",
    "\n",
    "print(potenciacion)\n",
    "print(radicacion)\n"
   ]
  },
  {
   "cell_type": "markdown",
   "metadata": {},
   "source": [
    "\n",
    "## Que acaba de pasar ?\n",
    "\n",
    "Pues en python al usar el simbolo \\* dos veces se vuelve una potenciacion de cualquier numero\n",
    "\n",
    "```console\n",
    "|esquema:\n",
    "|\n",
    "|->    base ** exponente\n",
    "|\n",
    "```\n",
    "\n",
    "Y como una radicacion vendria a ser la inversa de una potencia podemos hacer lo mismo con solo usar un simbolo mas sin usar obligatoriamente la libreria math"
   ]
  },
  {
   "cell_type": "markdown",
   "metadata": {},
   "source": [
    "## Y que pasaria si necesitamos un numero grande ?"
   ]
  },
  {
   "cell_type": "code",
   "execution_count": 27,
   "metadata": {},
   "outputs": [
    {
     "name": "stdout",
     "output_type": "stream",
     "text": [
      "5809605995369958062859502533304574370686975176362895236661486152287203730997110225737336044533118407251326157754980517443990529594540047121662885672187032401032111639706440498844049850989051627200244765807041812394729680540024104827976584369381522292361208779044769892743225751738076979568811309579125511333093243519553784816306381580161860200247492568448150242515304449577187604136428738580990172551573934146255830366405915000869643732053218566832545291107903722831634138599586406690325959725187447169059540805012310209639011750748760017095360734234945757416272994856013308616958529958304677637019181594088528345061285863898271763457294883546638879554311615446446330199254382340016292057090751175533888161918987295591531536698701292267685465517437915790823154844634780260102891718032495396075041899485513811126977307478969074857043710716150121315922024556759241239013152919710956468406379442914941614357107914462567329693696\n"
     ]
    }
   ],
   "source": [
    "\n",
    "\n",
    "potencia_grande = 8 ** 1024\n",
    "\n",
    "print(potencia_grande)\n",
    "\n",
    "# pues si, python lo maneja bastante facil la verdad\n",
    "# por esto tambien es muy usado en DATA CIENCE"
   ]
  },
  {
   "cell_type": "markdown",
   "metadata": {},
   "source": [
    "### EXPERIMENTO:\n",
    "\n",
    "Que pasaria si casteamos un booleano"
   ]
  },
  {
   "cell_type": "code",
   "execution_count": 32,
   "metadata": {},
   "outputs": [
    {
     "name": "stdout",
     "output_type": "stream",
     "text": [
      "1\n",
      "True\n"
     ]
    }
   ],
   "source": [
    "# prueba cambia el True a False\n",
    "booleano = True\n",
    "numero = int(booleano)\n",
    "\n",
    "print(numero)\n",
    "\n",
    "# si queremos hacer lo contrario?\n",
    "\n",
    "booleano = bool(numero)\n",
    "print(booleano)"
   ]
  }
 ],
 "metadata": {
  "kernelspec": {
   "display_name": "Python 3",
   "language": "python",
   "name": "python3"
  },
  "language_info": {
   "codemirror_mode": {
    "name": "ipython",
    "version": 3
   },
   "file_extension": ".py",
   "mimetype": "text/x-python",
   "name": "python",
   "nbconvert_exporter": "python",
   "pygments_lexer": "ipython3",
   "version": "3.5.2"
  }
 },
 "nbformat": 4,
 "nbformat_minor": 2
}
